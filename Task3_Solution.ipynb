{
 "cells": [
  {
   "cell_type": "code",
   "execution_count": 38,
   "id": "6ad1de97",
   "metadata": {},
   "outputs": [],
   "source": [
    "import numpy as np\n",
    "import pandas as pd\n",
    "import scipy\n",
    "from math import sqrt\n",
    "import matplotlib.pyplot as plt\n",
    "\n",
    "#estimators\n",
    "from sklearn.ensemble import RandomForestRegressor\n",
    "from sklearn.linear_model import LinearRegression\n",
    "from sklearn.svm import SVR\n",
    "from sklearn import linear_model\n",
    "\n",
    "#model metrics\n",
    "from sklearn.metrics import mean_squared_error\n",
    "from sklearn.metrics import r2_score\n",
    "from sklearn.model_selection import cross_val_score\n",
    "\n",
    "#cross validation\n",
    "#from sklearn.cross_validation import train_test_split\n",
    "from sklearn.model_selection import train_test_split"
   ]
  },
  {
   "cell_type": "code",
   "execution_count": 39,
   "id": "7420fc54",
   "metadata": {},
   "outputs": [
    {
     "data": {
      "text/html": [
       "<div>\n",
       "<style scoped>\n",
       "    .dataframe tbody tr th:only-of-type {\n",
       "        vertical-align: middle;\n",
       "    }\n",
       "\n",
       "    .dataframe tbody tr th {\n",
       "        vertical-align: top;\n",
       "    }\n",
       "\n",
       "    .dataframe thead th {\n",
       "        text-align: right;\n",
       "    }\n",
       "</style>\n",
       "<table border=\"1\" class=\"dataframe\">\n",
       "  <thead>\n",
       "    <tr style=\"text-align: right;\">\n",
       "      <th></th>\n",
       "      <th>Unnamed: 0</th>\n",
       "      <th>ID</th>\n",
       "      <th>LIMIT_BAL</th>\n",
       "      <th>SEX</th>\n",
       "      <th>EDUCATION</th>\n",
       "      <th>MARRIAGE</th>\n",
       "      <th>AGE</th>\n",
       "      <th>PAY_1</th>\n",
       "      <th>PAY_2</th>\n",
       "      <th>PAY_3</th>\n",
       "      <th>...</th>\n",
       "      <th>BILL_AMT4</th>\n",
       "      <th>BILL_AMT5</th>\n",
       "      <th>BILL_AMT6</th>\n",
       "      <th>PAY_AMT1</th>\n",
       "      <th>PAY_AMT2</th>\n",
       "      <th>PAY_AMT3</th>\n",
       "      <th>PAY_AMT4</th>\n",
       "      <th>PAY_AMT5</th>\n",
       "      <th>PAY_AMT6</th>\n",
       "      <th>DEFAULT</th>\n",
       "    </tr>\n",
       "  </thead>\n",
       "  <tbody>\n",
       "    <tr>\n",
       "      <th>0</th>\n",
       "      <td>0</td>\n",
       "      <td>1</td>\n",
       "      <td>20000</td>\n",
       "      <td>2</td>\n",
       "      <td>2</td>\n",
       "      <td>1</td>\n",
       "      <td>24</td>\n",
       "      <td>2</td>\n",
       "      <td>2</td>\n",
       "      <td>-1</td>\n",
       "      <td>...</td>\n",
       "      <td>0</td>\n",
       "      <td>0</td>\n",
       "      <td>0</td>\n",
       "      <td>0</td>\n",
       "      <td>689</td>\n",
       "      <td>0</td>\n",
       "      <td>0</td>\n",
       "      <td>0</td>\n",
       "      <td>0</td>\n",
       "      <td>1</td>\n",
       "    </tr>\n",
       "    <tr>\n",
       "      <th>1</th>\n",
       "      <td>1</td>\n",
       "      <td>2</td>\n",
       "      <td>120000</td>\n",
       "      <td>2</td>\n",
       "      <td>2</td>\n",
       "      <td>2</td>\n",
       "      <td>26</td>\n",
       "      <td>-1</td>\n",
       "      <td>2</td>\n",
       "      <td>0</td>\n",
       "      <td>...</td>\n",
       "      <td>3272</td>\n",
       "      <td>3455</td>\n",
       "      <td>3261</td>\n",
       "      <td>0</td>\n",
       "      <td>1000</td>\n",
       "      <td>1000</td>\n",
       "      <td>1000</td>\n",
       "      <td>0</td>\n",
       "      <td>2000</td>\n",
       "      <td>1</td>\n",
       "    </tr>\n",
       "    <tr>\n",
       "      <th>2</th>\n",
       "      <td>2</td>\n",
       "      <td>3</td>\n",
       "      <td>90000</td>\n",
       "      <td>2</td>\n",
       "      <td>2</td>\n",
       "      <td>2</td>\n",
       "      <td>34</td>\n",
       "      <td>0</td>\n",
       "      <td>0</td>\n",
       "      <td>0</td>\n",
       "      <td>...</td>\n",
       "      <td>14331</td>\n",
       "      <td>14948</td>\n",
       "      <td>15549</td>\n",
       "      <td>1518</td>\n",
       "      <td>1500</td>\n",
       "      <td>1000</td>\n",
       "      <td>1000</td>\n",
       "      <td>1000</td>\n",
       "      <td>5000</td>\n",
       "      <td>0</td>\n",
       "    </tr>\n",
       "    <tr>\n",
       "      <th>3</th>\n",
       "      <td>3</td>\n",
       "      <td>4</td>\n",
       "      <td>50000</td>\n",
       "      <td>2</td>\n",
       "      <td>2</td>\n",
       "      <td>1</td>\n",
       "      <td>37</td>\n",
       "      <td>0</td>\n",
       "      <td>0</td>\n",
       "      <td>0</td>\n",
       "      <td>...</td>\n",
       "      <td>28314</td>\n",
       "      <td>28959</td>\n",
       "      <td>29547</td>\n",
       "      <td>2000</td>\n",
       "      <td>2019</td>\n",
       "      <td>1200</td>\n",
       "      <td>1100</td>\n",
       "      <td>1069</td>\n",
       "      <td>1000</td>\n",
       "      <td>0</td>\n",
       "    </tr>\n",
       "    <tr>\n",
       "      <th>4</th>\n",
       "      <td>4</td>\n",
       "      <td>5</td>\n",
       "      <td>50000</td>\n",
       "      <td>1</td>\n",
       "      <td>2</td>\n",
       "      <td>1</td>\n",
       "      <td>57</td>\n",
       "      <td>-1</td>\n",
       "      <td>0</td>\n",
       "      <td>-1</td>\n",
       "      <td>...</td>\n",
       "      <td>20940</td>\n",
       "      <td>19146</td>\n",
       "      <td>19131</td>\n",
       "      <td>2000</td>\n",
       "      <td>36681</td>\n",
       "      <td>10000</td>\n",
       "      <td>9000</td>\n",
       "      <td>689</td>\n",
       "      <td>679</td>\n",
       "      <td>0</td>\n",
       "    </tr>\n",
       "  </tbody>\n",
       "</table>\n",
       "<p>5 rows × 26 columns</p>\n",
       "</div>"
      ],
      "text/plain": [
       "   Unnamed: 0  ID  LIMIT_BAL  SEX  EDUCATION  MARRIAGE  AGE  PAY_1  PAY_2  \\\n",
       "0           0   1      20000    2          2         1   24      2      2   \n",
       "1           1   2     120000    2          2         2   26     -1      2   \n",
       "2           2   3      90000    2          2         2   34      0      0   \n",
       "3           3   4      50000    2          2         1   37      0      0   \n",
       "4           4   5      50000    1          2         1   57     -1      0   \n",
       "\n",
       "   PAY_3  ...  BILL_AMT4  BILL_AMT5  BILL_AMT6  PAY_AMT1  PAY_AMT2  PAY_AMT3  \\\n",
       "0     -1  ...          0          0          0         0       689         0   \n",
       "1      0  ...       3272       3455       3261         0      1000      1000   \n",
       "2      0  ...      14331      14948      15549      1518      1500      1000   \n",
       "3      0  ...      28314      28959      29547      2000      2019      1200   \n",
       "4     -1  ...      20940      19146      19131      2000     36681     10000   \n",
       "\n",
       "   PAY_AMT4  PAY_AMT5  PAY_AMT6  DEFAULT  \n",
       "0         0         0         0        1  \n",
       "1      1000         0      2000        1  \n",
       "2      1000      1000      5000        0  \n",
       "3      1100      1069      1000        0  \n",
       "4      9000       689       679        0  \n",
       "\n",
       "[5 rows x 26 columns]"
      ]
     },
     "execution_count": 39,
     "metadata": {},
     "output_type": "execute_result"
    }
   ],
   "source": [
    "#data\n",
    "rawData = pd.read_csv('data_cleaned.csv')\n",
    "#rawData = pd.read_csv('data_proof.csv')\n",
    "rawData.head()"
   ]
  },
  {
   "cell_type": "code",
   "execution_count": 40,
   "id": "f3efe673",
   "metadata": {},
   "outputs": [
    {
     "name": "stdout",
     "output_type": "stream",
     "text": [
      "<class 'pandas.core.frame.DataFrame'>\n",
      "RangeIndex: 30000 entries, 0 to 29999\n",
      "Data columns (total 26 columns):\n",
      " #   Column      Non-Null Count  Dtype\n",
      "---  ------      --------------  -----\n",
      " 0   Unnamed: 0  30000 non-null  int64\n",
      " 1   ID          30000 non-null  int64\n",
      " 2   LIMIT_BAL   30000 non-null  int64\n",
      " 3   SEX         30000 non-null  int64\n",
      " 4   EDUCATION   30000 non-null  int64\n",
      " 5   MARRIAGE    30000 non-null  int64\n",
      " 6   AGE         30000 non-null  int64\n",
      " 7   PAY_1       30000 non-null  int64\n",
      " 8   PAY_2       30000 non-null  int64\n",
      " 9   PAY_3       30000 non-null  int64\n",
      " 10  PAY_4       30000 non-null  int64\n",
      " 11  PAY_5       30000 non-null  int64\n",
      " 12  PAY_6       30000 non-null  int64\n",
      " 13  BILL_AMT1   30000 non-null  int64\n",
      " 14  BILL_AMT2   30000 non-null  int64\n",
      " 15  BILL_AMT3   30000 non-null  int64\n",
      " 16  BILL_AMT4   30000 non-null  int64\n",
      " 17  BILL_AMT5   30000 non-null  int64\n",
      " 18  BILL_AMT6   30000 non-null  int64\n",
      " 19  PAY_AMT1    30000 non-null  int64\n",
      " 20  PAY_AMT2    30000 non-null  int64\n",
      " 21  PAY_AMT3    30000 non-null  int64\n",
      " 22  PAY_AMT4    30000 non-null  int64\n",
      " 23  PAY_AMT5    30000 non-null  int64\n",
      " 24  PAY_AMT6    30000 non-null  int64\n",
      " 25  DEFAULT     30000 non-null  int64\n",
      "dtypes: int64(26)\n",
      "memory usage: 6.0 MB\n"
     ]
    }
   ],
   "source": [
    "rawData.info()"
   ]
  },
  {
   "cell_type": "code",
   "execution_count": 41,
   "id": "e6bb613c",
   "metadata": {},
   "outputs": [
    {
     "name": "stdout",
     "output_type": "stream",
     "text": [
      "Summary of feature sample\n"
     ]
    },
    {
     "data": {
      "text/html": [
       "<div>\n",
       "<style scoped>\n",
       "    .dataframe tbody tr th:only-of-type {\n",
       "        vertical-align: middle;\n",
       "    }\n",
       "\n",
       "    .dataframe tbody tr th {\n",
       "        vertical-align: top;\n",
       "    }\n",
       "\n",
       "    .dataframe thead th {\n",
       "        text-align: right;\n",
       "    }\n",
       "</style>\n",
       "<table border=\"1\" class=\"dataframe\">\n",
       "  <thead>\n",
       "    <tr style=\"text-align: right;\">\n",
       "      <th></th>\n",
       "      <th>SEX</th>\n",
       "      <th>EDUCATION</th>\n",
       "      <th>MARRIAGE</th>\n",
       "      <th>AGE</th>\n",
       "    </tr>\n",
       "  </thead>\n",
       "  <tbody>\n",
       "    <tr>\n",
       "      <th>0</th>\n",
       "      <td>2</td>\n",
       "      <td>2</td>\n",
       "      <td>1</td>\n",
       "      <td>24</td>\n",
       "    </tr>\n",
       "    <tr>\n",
       "      <th>1</th>\n",
       "      <td>2</td>\n",
       "      <td>2</td>\n",
       "      <td>2</td>\n",
       "      <td>26</td>\n",
       "    </tr>\n",
       "    <tr>\n",
       "      <th>2</th>\n",
       "      <td>2</td>\n",
       "      <td>2</td>\n",
       "      <td>2</td>\n",
       "      <td>34</td>\n",
       "    </tr>\n",
       "    <tr>\n",
       "      <th>3</th>\n",
       "      <td>2</td>\n",
       "      <td>2</td>\n",
       "      <td>1</td>\n",
       "      <td>37</td>\n",
       "    </tr>\n",
       "    <tr>\n",
       "      <th>4</th>\n",
       "      <td>1</td>\n",
       "      <td>2</td>\n",
       "      <td>1</td>\n",
       "      <td>57</td>\n",
       "    </tr>\n",
       "  </tbody>\n",
       "</table>\n",
       "</div>"
      ],
      "text/plain": [
       "   SEX  EDUCATION  MARRIAGE  AGE\n",
       "0    2          2         1   24\n",
       "1    2          2         2   26\n",
       "2    2          2         2   34\n",
       "3    2          2         1   37\n",
       "4    1          2         1   57"
      ]
     },
     "execution_count": 41,
     "metadata": {},
     "output_type": "execute_result"
    }
   ],
   "source": [
    "#selectfeatures\n",
    "X = rawData.iloc[:,3:7]\n",
    "print('Summary of feature sample')\n",
    "X.head(5)"
   ]
  },
  {
   "cell_type": "code",
   "execution_count": 42,
   "id": "034365f4",
   "metadata": {},
   "outputs": [
    {
     "data": {
      "text/plain": [
       "0    1\n",
       "1    1\n",
       "2    0\n",
       "3    0\n",
       "4    0\n",
       "Name: DEFAULT, dtype: int64"
      ]
     },
     "execution_count": 42,
     "metadata": {},
     "output_type": "execute_result"
    }
   ],
   "source": [
    "#dependent variable\n",
    "y = rawData['DEFAULT']\n",
    "y.head(5)"
   ]
  },
  {
   "cell_type": "code",
   "execution_count": 44,
   "id": "8986e426",
   "metadata": {},
   "outputs": [
    {
     "name": "stdout",
     "output_type": "stream",
     "text": [
      "[0.00120422 0.00185823 0.001138  ]\n"
     ]
    },
    {
     "data": {
      "text/plain": [
       "array([-0.03529931,  0.01780149, -0.01834094, -0.00023723])"
      ]
     },
     "execution_count": 44,
     "metadata": {},
     "output_type": "execute_result"
    }
   ],
   "source": [
    "#use linear aggression to detec whether customer would default. result is not categorical.\n",
    "model = LinearRegression(n_jobs=10)\n",
    "reg=model.fit(X,y)\n",
    "print(cross_val_score(model,X,y,cv=3))\n",
    "X_train, X_test, y_train, y_test = train_test_split(X,y,test_size=0.2, random_state=123)\n",
    "preds = model.predict(X_test)\n",
    "model.coef_   #prints out the coefficients used for linear regrassion for each fature"
   ]
  },
  {
   "cell_type": "code",
   "execution_count": 45,
   "id": "5a95d36e",
   "metadata": {},
   "outputs": [
    {
     "name": "stdout",
     "output_type": "stream",
     "text": [
      "Prediction summary: Correct=7049, Wrong=1951, Correct ratio=78%\n"
     ]
    }
   ],
   "source": [
    "# use classification to detect whether the custoemr will default based on basic info\n",
    "from sklearn.tree import DecisionTreeClassifier\n",
    "from sklearn.ensemble import RandomForestClassifier\n",
    "X = rawData.iloc[:,3:7] # use basic info to identify amount\n",
    "y = rawData['DEFAULT']\n",
    "X_train, X_test, y_train, y_test = train_test_split(X,y,test_size=0.3, random_state=123)\n",
    "algo = DecisionTreeClassifier(max_depth=5)  # must specify max_depth, otherwise generates too many layers\n",
    "#algo = RandomForestClassifier(max_depth=10)\n",
    "model = algo.fit(X_train,y_train)\n",
    "preds = model.predict(X_test)\n",
    "pred_correct = sum((preds==y_test)) \n",
    "pred_wrong = sum(preds!=y_test)\n",
    "print(\"Prediction summary: Correct=%d, Wrong=%d, Correct ratio=%d%s\"%(pred_correct,pred_wrong,pred_correct/len(y_test)*100,'%'))"
   ]
  },
  {
   "cell_type": "code",
   "execution_count": 46,
   "id": "9eff03bc",
   "metadata": {
    "scrolled": true
   },
   "outputs": [
    {
     "name": "stdout",
     "output_type": "stream",
     "text": [
      "4582      True\n",
      "6154     False\n",
      "15161     True\n",
      "15041     True\n",
      "28665    False\n",
      "22975     True\n",
      "7396     False\n",
      "7008      True\n",
      "11478     True\n",
      "1112      True\n",
      "25265     True\n",
      "8997      True\n",
      "29525     True\n",
      "24791     True\n",
      "5346      True\n",
      "2459      True\n",
      "9081      True\n",
      "8005      True\n",
      "4789      True\n",
      "1811      True\n",
      "Name: DEFAULT, dtype: bool\n",
      "17\n"
     ]
    }
   ],
   "source": [
    "#test code\n",
    "a=(preds==y_test)\n",
    "print(a[20:40])\n",
    "print(sum(a[20:40]))"
   ]
  },
  {
   "cell_type": "code",
   "execution_count": 47,
   "id": "726b6338",
   "metadata": {},
   "outputs": [
    {
     "name": "stdout",
     "output_type": "stream",
     "text": [
      "Summary of feature sample\n",
      "   SEX  EDUCATION  MARRIAGE  AGE  PAY_1  PAY_2  PAY_3  PAY_4  PAY_5  PAY_6  \\\n",
      "0    2          2         1   24      2      2     -1     -1     -2     -2   \n",
      "1    2          2         2   26     -1      2      0      0      0      2   \n",
      "2    2          2         2   34      0      0      0      0      0      0   \n",
      "3    2          2         1   37      0      0      0      0      0      0   \n",
      "4    1          2         1   57     -1      0     -1      0      0      0   \n",
      "\n",
      "   BILL_AMT1  BILL_AMT2  BILL_AMT3  BILL_AMT4  BILL_AMT5  BILL_AMT6  \n",
      "0       3913       3102        689          0          0          0  \n",
      "1       2682       1725       2682       3272       3455       3261  \n",
      "2      29239      14027      13559      14331      14948      15549  \n",
      "3      46990      48233      49291      28314      28959      29547  \n",
      "4       8617       5670      35835      20940      19146      19131  \n",
      "Summary of dependent\n",
      "0     20000\n",
      "1    120000\n",
      "2     90000\n",
      "3     50000\n",
      "4     50000\n",
      "Name: LIMIT_BAL, dtype: int64\n",
      "Random Forest Regressor 0.4429217550017543 0.453392889092995 0.429285895484118\n",
      "Linear Regression 0.32202109425431397 0.33565549547790374 0.3118994427430031\n",
      "Support Vector Regression -0.050952069000359014 -0.005157874092098558 -0.11345927643062881\n"
     ]
    }
   ],
   "source": [
    "#selecc features for limit amount analysis\n",
    "#X = rawData.iloc[:,3:25] #22-24\n",
    "X = rawData.iloc[:,3:19]\n",
    "print('Summary of feature sample')\n",
    "print(X.head(5))\n",
    "y = rawData['LIMIT_BAL']\n",
    "print('Summary of dependent')\n",
    "print(y.head(5))\n",
    "#model = LinearRegression(n_jobs=10)\n",
    "#print(cross_val_score(model,X,y,cv=3))\n",
    "#regression\n",
    "algosClass = []\n",
    "algosClass.append(('Random Forest Regressor',RandomForestRegressor()))\n",
    "algosClass.append(('Linear Regression',LinearRegression()))\n",
    "algosClass.append(('Support Vector Regression',SVR()))\n",
    "results = []\n",
    "names = []\n",
    "for name, model in algosClass:\n",
    "    result = cross_val_score(model, X,y, cv=3, scoring='r2')\n",
    "    names.append(name)\n",
    "    results.append(result)\n",
    "for i in range(len(names)):\n",
    "    print(names[i],results[i].mean(),results[i].max(),results[i].min())"
   ]
  },
  {
   "cell_type": "code",
   "execution_count": 22,
   "id": "de04cfd3",
   "metadata": {},
   "outputs": [],
   "source": [
    "X_train, X_test, y_train, y_test = train_test_split(X,y,test_size=0.3, random_state=123)\n",
    "algo = RandomForestRegressor()\n",
    "#algo = RandomForestClassifier(max_depth=10)\n",
    "model = algo.fit(X_train,y_train)\n",
    "preds = model.predict(X_test)"
   ]
  },
  {
   "cell_type": "code",
   "execution_count": 23,
   "id": "27363e14",
   "metadata": {},
   "outputs": [
    {
     "name": "stdout",
     "output_type": "stream",
     "text": [
      "Prediction summary: Correct=4585, Wrong=4415, Correct ratio=50%\n"
     ]
    },
    {
     "data": {
      "text/plain": [
       "[<matplotlib.lines.Line2D at 0x1d74fd73b20>]"
      ]
     },
     "execution_count": 23,
     "metadata": {},
     "output_type": "execute_result"
    },
    {
     "data": {
      "image/png": "[encoded data removed]",
      "text/plain": [
       "<Figure size 432x288 with 1 Axes>"
      ]
     },
     "metadata": {
      "needs_background": "light"
     },
     "output_type": "display_data"
    }
   ],
   "source": [
    "threshold=50000\n",
    "pred_correct = sum(abs(preds-y_test)<=threshold) \n",
    "pred_wrong = sum(abs(preds-y_test)>threshold) \n",
    "print(\"Prediction summary: Correct=%d, Wrong=%d, Correct ratio=%d%s\"%(pred_correct,pred_wrong,pred_correct/len(y_test)*100,'%'))\n",
    "plt.plot(preds-y_test,'+r')"
   ]
  },
  {
   "cell_type": "code",
   "execution_count": 24,
   "id": "794d1138",
   "metadata": {},
   "outputs": [
    {
     "name": "stdout",
     "output_type": "stream",
     "text": [
      "Prediction summary: Correct=6068, Wrong=2932, Correct ratio=67%\n"
     ]
    },
    {
     "data": {
      "text/plain": [
       "[<matplotlib.lines.Line2D at 0x1d74fd9fb50>]"
      ]
     },
     "execution_count": 24,
     "metadata": {},
     "output_type": "execute_result"
    },
    {
     "data": {
      "image/png": "[encoded data removed]",
      "text/plain": [
       "<Figure size 432x288 with 1 Axes>"
      ]
     },
     "metadata": {
      "needs_background": "light"
     },
     "output_type": "display_data"
    }
   ],
   "source": [
    "algo = RandomForestClassifier(max_depth=10)\n",
    "amount_cut = [0,50000,100000,150000,200000,250000,300000,350000,400000,450000,2000000] # last number larger than max to avoid NaN\n",
    "y_grp=pd.cut(y,amount_cut,right=False, labels=False)\n",
    "X_train, X_test, y_train, y_test = train_test_split(X,y_grp,test_size=0.3, random_state=123)\n",
    "model = algo.fit(X_train,y_train)\n",
    "preds = model.predict(X_test)\n",
    "threshold=1\n",
    "pred_correct = sum(abs(preds-y_test)<=threshold) \n",
    "pred_wrong = sum(abs(preds-y_test)>threshold) \n",
    "print(\"Prediction summary: Correct=%d, Wrong=%d, Correct ratio=%d%s\"%(pred_correct,pred_wrong,pred_correct/len(y_test)*100,'%'))\n",
    "plt.plot(preds-y_test,'+r')"
   ]
  },
  {
   "cell_type": "code",
   "execution_count": null,
   "id": "d0b47f6c",
   "metadata": {},
   "outputs": [],
   "source": []
  }
 ],
 "metadata": {
  "kernelspec": {
   "display_name": "Python 3 (ipykernel)",
   "language": "python",
   "name": "python3"
  },
  "language_info": {
   "codemirror_mode": {
    "name": "ipython",
    "version": 3
   },
   "file_extension": ".py",
   "mimetype": "text/x-python",
   "name": "python",
   "nbconvert_exporter": "python",
   "pygments_lexer": "ipython3",
   "version": "3.8.12"
  }
 },
 "nbformat": 4,
 "nbformat_minor": 5
}
